{
 "cells": [
  {
   "cell_type": "markdown",
   "id": "bbc998e9",
   "metadata": {},
   "source": [
    "1. Import Libraries"
   ]
  },
  {
   "cell_type": "code",
   "execution_count": 1,
   "id": "18335f41",
   "metadata": {},
   "outputs": [],
   "source": [
    "import numpy as np\n",
    "import pandas as pd\n",
    "import matplotlib.pyplot as plt\n",
    "import seaborn as sns\n",
    "\n",
    "from sklearn.model_selection import train_test_split, TimeSeriesSplit\n",
    "from sklearn.preprocessing import StandardScaler\n",
    "from sklearn.metrics import classification_report, confusion_matrix, roc_auc_score, roc_curve\n",
    "\n",
    "import tensorflow as tf\n",
    "from tensorflow import keras\n",
    "from keras import layers\n",
    "\n",
    "# For reproducibility\n",
    "np.random.seed(42)\n",
    "tf.random.set_seed(42)\n"
   ]
  },
  {
   "cell_type": "markdown",
   "id": "246657cd",
   "metadata": {},
   "source": [
    "2. Load Dataset"
   ]
  },
  {
   "cell_type": "code",
   "execution_count": 6,
   "id": "88553ae9",
   "metadata": {},
   "outputs": [
    {
     "name": "stdout",
     "output_type": "stream",
     "text": [
      "(620095, 73)\n",
      "<class 'pandas.core.frame.DataFrame'>\n",
      "RangeIndex: 620095 entries, 0 to 620094\n",
      "Data columns (total 73 columns):\n",
      " #   Column               Non-Null Count   Dtype  \n",
      "---  ------               --------------   -----  \n",
      " 0   Date                 620095 non-null  object \n",
      " 1   Open                 620095 non-null  float64\n",
      " 2   High                 620095 non-null  float64\n",
      " 3   Low                  620095 non-null  float64\n",
      " 4   Close                620095 non-null  float64\n",
      " 5   Volume               620095 non-null  int64  \n",
      " 6   Dividends            620095 non-null  float64\n",
      " 7   Stock Splits         620095 non-null  float64\n",
      " 8   Ticker               620095 non-null  object \n",
      " 9   SMA_5                620095 non-null  float64\n",
      " 10  SMA_10               620095 non-null  float64\n",
      " 11  SMA_20               620095 non-null  float64\n",
      " 12  SMA_50               620095 non-null  float64\n",
      " 13  EMA_12               620095 non-null  float64\n",
      " 14  EMA_26               620095 non-null  float64\n",
      " 15  MACD                 620095 non-null  float64\n",
      " 16  MACD_Signal          620095 non-null  float64\n",
      " 17  MACD_Histogram       620095 non-null  float64\n",
      " 18  RSI                  620095 non-null  float64\n",
      " 19  BB_Middle            620095 non-null  float64\n",
      " 20  BB_Upper             620095 non-null  float64\n",
      " 21  BB_Lower             620095 non-null  float64\n",
      " 22  BB_Width             620095 non-null  float64\n",
      " 23  BB_Position          620095 non-null  float64\n",
      " 24  Volatility           620095 non-null  float64\n",
      " 25  Price_Change         620095 non-null  float64\n",
      " 26  Price_Change_5d      620095 non-null  float64\n",
      " 27  High_Low_Ratio       620095 non-null  float64\n",
      " 28  Open_Close_Ratio     620095 non-null  float64\n",
      " 29  Volume_SMA           620095 non-null  float64\n",
      " 30  Volume_Ratio         620095 non-null  float64\n",
      " 31  Close_lag_1          620095 non-null  float64\n",
      " 32  Close_lag_2          620095 non-null  float64\n",
      " 33  Close_lag_3          620095 non-null  float64\n",
      " 34  Close_lag_5          620095 non-null  float64\n",
      " 35  Close_lag_10         620095 non-null  float64\n",
      " 36  Volume_lag_1         620095 non-null  float64\n",
      " 37  Volume_lag_2         620095 non-null  float64\n",
      " 38  Volume_lag_3         620095 non-null  float64\n",
      " 39  Volume_lag_5         620095 non-null  float64\n",
      " 40  Volume_lag_10        620095 non-null  float64\n",
      " 41  Price_Change_lag_1   620095 non-null  float64\n",
      " 42  Price_Change_lag_2   620095 non-null  float64\n",
      " 43  Price_Change_lag_3   620095 non-null  float64\n",
      " 44  Price_Change_lag_5   620095 non-null  float64\n",
      " 45  Price_Change_lag_10  620095 non-null  float64\n",
      " 46  RSI_lag_1            620095 non-null  float64\n",
      " 47  RSI_lag_2            620095 non-null  float64\n",
      " 48  RSI_lag_3            620095 non-null  float64\n",
      " 49  RSI_lag_5            620095 non-null  float64\n",
      " 50  RSI_lag_10           620095 non-null  float64\n",
      " 51  MACD_lag_1           620095 non-null  float64\n",
      " 52  MACD_lag_2           620095 non-null  float64\n",
      " 53  MACD_lag_3           620095 non-null  float64\n",
      " 54  MACD_lag_5           620095 non-null  float64\n",
      " 55  MACD_lag_10          620095 non-null  float64\n",
      " 56  Volatility_lag_1     620095 non-null  float64\n",
      " 57  Volatility_lag_2     620095 non-null  float64\n",
      " 58  Volatility_lag_3     620095 non-null  float64\n",
      " 59  Volatility_lag_5     620095 non-null  float64\n",
      " 60  Volatility_lag_10    620095 non-null  float64\n",
      " 61  Future_Return_1d     620095 non-null  float64\n",
      " 62  Future_Up_1d         620095 non-null  int64  \n",
      " 63  Future_Category_1d   620095 non-null  float64\n",
      " 64  Future_Return_5d     620095 non-null  float64\n",
      " 65  Future_Up_5d         620095 non-null  int64  \n",
      " 66  Future_Category_5d   620095 non-null  float64\n",
      " 67  Future_Return_10d    620095 non-null  float64\n",
      " 68  Future_Up_10d        620095 non-null  int64  \n",
      " 69  Future_Category_10d  620095 non-null  float64\n",
      " 70  Future_Return_20d    620095 non-null  float64\n",
      " 71  Future_Up_20d        620095 non-null  int64  \n",
      " 72  Future_Category_20d  620095 non-null  float64\n",
      "dtypes: float64(66), int64(5), object(2)\n",
      "memory usage: 345.4+ MB\n",
      "None\n"
     ]
    }
   ],
   "source": [
    "# If using HuggingFace dataset:\n",
    "from datasets import load_dataset\n",
    "\n",
    "dataset = load_dataset(\"Adilbai/stock-dataset\")  # ~620k rows\n",
    "df = dataset['train'].to_pandas()\n",
    "\n",
    "print(df.shape)\n",
    "df.head()\n",
    "print(df.info())"
   ]
  }
 ],
 "metadata": {
  "kernelspec": {
   "display_name": "Python 3",
   "language": "python",
   "name": "python3"
  },
  "language_info": {
   "codemirror_mode": {
    "name": "ipython",
    "version": 3
   },
   "file_extension": ".py",
   "mimetype": "text/x-python",
   "name": "python",
   "nbconvert_exporter": "python",
   "pygments_lexer": "ipython3",
   "version": "3.11.5"
  }
 },
 "nbformat": 4,
 "nbformat_minor": 5
}
